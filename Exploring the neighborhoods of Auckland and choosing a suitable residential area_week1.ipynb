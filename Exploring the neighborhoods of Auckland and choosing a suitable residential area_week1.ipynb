{
 "cells": [
  {
   "cell_type": "markdown",
   "metadata": {},
   "source": [
    "# Exploring the neighborhoods of Auckland and choosing a suitable residential area_week1"
   ]
  },
  {
   "cell_type": "markdown",
   "metadata": {},
   "source": [
    "## Introduction\n"
   ]
  },
  {
   "cell_type": "markdown",
   "metadata": {},
   "source": [
    "Although Wellington is the capital city of New Zealand, Auckland is the largest urban area in New Zealand, with an urban population of around 1.65 million(2017) which accounted for 0.35% of the national population. Besides, Auckland is New Zealand's economic, cultural, shipping and tourism hub. The problem is that if you are not familiar with a city, it is difficult to decide which area to live in. And it is not an easy thing to make a decision as the final choice is always the balance of all factors. I would like to solve this problem by analyzing the data I could obtain. I will use Foursquare location data to explore Auckland to get a better understanding of the city and then choose a suitable community for me personally. According to the previous statement, the audience of this report would be people who want to decide the residence area in a more data-driven way and who have a curiosity about exploring their city."
   ]
  },
  {
   "cell_type": "markdown",
   "metadata": {},
   "source": [
    "## Data"
   ]
  },
  {
   "cell_type": "markdown",
   "metadata": {},
   "source": [
    "- Foursquare location data\n",
    "    - Obtain the categories of various venues exist in different neighborhoods\n",
    "- 2013 Census data\n",
    "    - median rent paid\n",
    "    - median personal income"
   ]
  },
  {
   "cell_type": "markdown",
   "metadata": {},
   "source": [
    "Obviously, when choosing a place of residence, people have different standards. The same conditions create different levels of attraction for different people. From a macro perspective, Foursquare location data will be used to segment and cluster communities to gain a basic insight into these community characteristics. For my personal perspective, I will pay more attention to the atmosphere of the neighborhood. Specifically, I hope that there are coffee shops in the place where I will live, so I can relax with a cup of delicious coffee. In addition, if this area would close to Chinese restaurants, this area will be more attractive to me. Therefore, Foursquare location data will be used in order to get the number of coffee shop and Chinese restaurants in each neighborhood. Although I know that the Auckland CBD is perfectly meet these standards, I prefer to live in a place where it is not so crowded. So Auckland CBD is out of my consideration. Besides, the rent price would also be considered because of taking into account cost constraints. Lastly, I would put the personal median income of residents as a consideration factor due to preferring the good facilities and well-educated neighbor. For these two considerations, I will use the 2013 Census data from Stats NZ, which has record median rent paid and median personal income for different communities."
   ]
  }
 ],
 "metadata": {
  "kernelspec": {
   "display_name": "Python 3",
   "language": "python",
   "name": "python3"
  },
  "language_info": {
   "codemirror_mode": {
    "name": "ipython",
    "version": 3
   },
   "file_extension": ".py",
   "mimetype": "text/x-python",
   "name": "python",
   "nbconvert_exporter": "python",
   "pygments_lexer": "ipython3",
   "version": "3.6.8"
  }
 },
 "nbformat": 4,
 "nbformat_minor": 2
}
